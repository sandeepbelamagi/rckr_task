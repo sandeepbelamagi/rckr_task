{
 "cells": [
  {
   "cell_type": "code",
   "execution_count": 2,
   "metadata": {},
   "outputs": [],
   "source": [
    "import numpy as np\n",
    "import pandas as pd\n",
    "import requests\n",
    "import math"
   ]
  },
  {
   "cell_type": "code",
   "execution_count": 3,
   "metadata": {},
   "outputs": [],
   "source": [
    "# requesting the data\n",
    "r = requests.get('https://cdn.jsdelivr.net/gh/apilayer/restcountries@3dc0fb110cd97bce9ddf27b3e8e1f7fbe115dc3c/src/main/resources/countriesV2.json')\n",
    "contries = r.json()"
   ]
  },
  {
   "cell_type": "markdown",
   "metadata": {},
   "source": [
    "###### population limit is 11750"
   ]
  },
  {
   "cell_type": "code",
   "execution_count": 4,
   "metadata": {},
   "outputs": [],
   "source": [
    "# population greater or equal to the population limit given below and have atleast one currency exclusively for themselves.\n",
    "first_20 = {}\n",
    "for contry in contries:\n",
    "    if contry['population'] >= 11750:\n",
    "        first_20[contry['currencies'][0]['code']] = []\n",
    "        first_20[contry['currencies'][0]['code']].append(contry['latlng'])\n",
    "        first_20[contry['currencies'][0]['code']].append(contry['population'])"
   ]
  },
  {
   "cell_type": "code",
   "execution_count": 5,
   "metadata": {},
   "outputs": [],
   "source": [
    "# sorting the dictionay w.r.t population\n",
    "first_20=dict(sorted(first_20.items(),key=lambda x:x[1][1])[:20])"
   ]
  },
  {
   "cell_type": "code",
   "execution_count": 6,
   "metadata": {
    "scrolled": true
   },
   "outputs": [
    {
     "data": {
      "text/html": [
       "<div>\n",
       "<style scoped>\n",
       "    .dataframe tbody tr th:only-of-type {\n",
       "        vertical-align: middle;\n",
       "    }\n",
       "\n",
       "    .dataframe tbody tr th {\n",
       "        vertical-align: top;\n",
       "    }\n",
       "\n",
       "    .dataframe thead th {\n",
       "        text-align: right;\n",
       "    }\n",
       "</style>\n",
       "<table border=\"1\" class=\"dataframe\">\n",
       "  <thead>\n",
       "    <tr style=\"text-align: right;\">\n",
       "      <th></th>\n",
       "      <th>XPF</th>\n",
       "      <th>(none)</th>\n",
       "      <th>GIP</th>\n",
       "      <th>ANG</th>\n",
       "      <th>DKK</th>\n",
       "      <th>KYD</th>\n",
       "      <th>BMD</th>\n",
       "      <th>SCR</th>\n",
       "      <th>None</th>\n",
       "      <th>TOP</th>\n",
       "      <th>AWG</th>\n",
       "      <th>XCD</th>\n",
       "      <th>AUD</th>\n",
       "      <th>STD</th>\n",
       "      <th>WST</th>\n",
       "      <th>VUV</th>\n",
       "      <th>BBD</th>\n",
       "      <th>ISK</th>\n",
       "      <th>MVR</th>\n",
       "      <th>BZD</th>\n",
       "    </tr>\n",
       "  </thead>\n",
       "  <tbody>\n",
       "    <tr>\n",
       "      <th>0</th>\n",
       "      <td>[-13.3, -176.2]</td>\n",
       "      <td>[7.5, 134.5]</td>\n",
       "      <td>[36.13333333, -5.35]</td>\n",
       "      <td>[18.033333, -63.05]</td>\n",
       "      <td>[72, -40]</td>\n",
       "      <td>[19.5, -80.5]</td>\n",
       "      <td>[32.33333333, -64.75]</td>\n",
       "      <td>[-4.58333333, 55.66666666]</td>\n",
       "      <td>[6.91666666, 158.25]</td>\n",
       "      <td>[-20, -175]</td>\n",
       "      <td>[12.5, -69.96666666]</td>\n",
       "      <td>[13.25, -61.2]</td>\n",
       "      <td>[1.41666666, 173]</td>\n",
       "      <td>[1, 7]</td>\n",
       "      <td>[-13.58333333, -172.33333333]</td>\n",
       "      <td>[-16, 167]</td>\n",
       "      <td>[13.16666666, -59.53333333]</td>\n",
       "      <td>[65, -18]</td>\n",
       "      <td>[3.25, 73]</td>\n",
       "      <td>[17.25, -88.75]</td>\n",
       "    </tr>\n",
       "    <tr>\n",
       "      <th>1</th>\n",
       "      <td>11750</td>\n",
       "      <td>17950</td>\n",
       "      <td>33140</td>\n",
       "      <td>38247</td>\n",
       "      <td>55847</td>\n",
       "      <td>58238</td>\n",
       "      <td>61954</td>\n",
       "      <td>91400</td>\n",
       "      <td>102800</td>\n",
       "      <td>103252</td>\n",
       "      <td>107394</td>\n",
       "      <td>109991</td>\n",
       "      <td>113400</td>\n",
       "      <td>187356</td>\n",
       "      <td>194899</td>\n",
       "      <td>277500</td>\n",
       "      <td>285000</td>\n",
       "      <td>334300</td>\n",
       "      <td>344023</td>\n",
       "      <td>370300</td>\n",
       "    </tr>\n",
       "  </tbody>\n",
       "</table>\n",
       "</div>"
      ],
      "text/plain": [
       "               XPF        (none)                   GIP                  ANG  \\\n",
       "0  [-13.3, -176.2]  [7.5, 134.5]  [36.13333333, -5.35]  [18.033333, -63.05]   \n",
       "1            11750         17950                 33140                38247   \n",
       "\n",
       "         DKK            KYD                    BMD  \\\n",
       "0  [72, -40]  [19.5, -80.5]  [32.33333333, -64.75]   \n",
       "1      55847          58238                  61954   \n",
       "\n",
       "                          SCR                  None          TOP  \\\n",
       "0  [-4.58333333, 55.66666666]  [6.91666666, 158.25]  [-20, -175]   \n",
       "1                       91400                102800       103252   \n",
       "\n",
       "                    AWG             XCD                AUD     STD  \\\n",
       "0  [12.5, -69.96666666]  [13.25, -61.2]  [1.41666666, 173]  [1, 7]   \n",
       "1                107394          109991             113400  187356   \n",
       "\n",
       "                             WST         VUV                          BBD  \\\n",
       "0  [-13.58333333, -172.33333333]  [-16, 167]  [13.16666666, -59.53333333]   \n",
       "1                         194899      277500                       285000   \n",
       "\n",
       "         ISK         MVR              BZD  \n",
       "0  [65, -18]  [3.25, 73]  [17.25, -88.75]  \n",
       "1     334300      344023           370300  "
      ]
     },
     "execution_count": 6,
     "metadata": {},
     "output_type": "execute_result"
    }
   ],
   "source": [
    "pd.DataFrame(first_20)"
   ]
  },
  {
   "cell_type": "code",
   "execution_count": 7,
   "metadata": {},
   "outputs": [],
   "source": [
    "# distance between two points\n",
    "def find_dist(latlng_1, latlng_2):\n",
    "    lat1, lon1 = np.radians(latlng_1[0][0]), np.radians(latlng_1[0][1])\n",
    "    lat2, lon2 =  np.radians(latlng_2[0][0]), np.radians(latlng_2[0][1])\n",
    "    d = 2 * 6371 * np.arcsin(np.sqrt(np.sin((lat2-lat1)/2)**2 + np.cos(lat1) * np.cos(lat2)* np.sin((lon2-lon1)/2)**2))\n",
    "    \n",
    "    return round(d,2)"
   ]
  },
  {
   "cell_type": "code",
   "execution_count": 8,
   "metadata": {
    "scrolled": true
   },
   "outputs": [
    {
     "name": "stdout",
     "output_type": "stream",
     "text": [
      "1831281.59\n"
     ]
    }
   ],
   "source": [
    "# total distance calculating\n",
    "total_dist = 0\n",
    "keys = list(first_20.keys())\n",
    "\n",
    "for i in range(len(keys)):\n",
    "    for j in range(i+1,len(keys)):\n",
    "        total_dist += find_dist(first_20[keys[i]], first_20[keys[j]])\n",
    "total_dist = np.round(total_dist, 2)\n",
    "\n",
    "\n",
    "print(total_dist)"
   ]
  }
 ],
 "metadata": {
  "kernelspec": {
   "display_name": "Python 3",
   "language": "python",
   "name": "python3"
  },
  "language_info": {
   "codemirror_mode": {
    "name": "ipython",
    "version": 3
   },
   "file_extension": ".py",
   "mimetype": "text/x-python",
   "name": "python",
   "nbconvert_exporter": "python",
   "pygments_lexer": "ipython3",
   "version": "3.8.5"
  }
 },
 "nbformat": 4,
 "nbformat_minor": 4
}
